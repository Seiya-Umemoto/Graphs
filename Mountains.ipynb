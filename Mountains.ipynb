{
  "nbformat": 4,
  "nbformat_minor": 0,
  "metadata": {
    "colab": {
      "name": "Mountains",
      "version": "0.3.2",
      "provenance": [],
      "include_colab_link": true
    },
    "kernelspec": {
      "name": "python3",
      "display_name": "Python 3"
    }
  },
  "cells": [
    {
      "cell_type": "markdown",
      "metadata": {
        "id": "view-in-github",
        "colab_type": "text"
      },
      "source": [
        "<a href=\"https://colab.research.google.com/github/Seiya-Umemoto/Graphs/blob/master/Mountains.ipynb\" target=\"_parent\"><img src=\"https://colab.research.google.com/assets/colab-badge.svg\" alt=\"Open In Colab\"/></a>"
      ]
    },
    {
      "cell_type": "code",
      "metadata": {
        "id": "4aVsUs26k505",
        "colab_type": "code",
        "outputId": "eef8665d-e0b6-4b18-9863-a5539146ec82",
        "colab": {
          "base_uri": "https://localhost:8080/",
          "height": 87
        }
      },
      "source": [
        "def is_time_to_print_star(j, starts, ends):\n",
        "  check = False\n",
        "  for i in range(0, len(starts)):\n",
        "    if starts[i] <= j and j <= ends[i]:\n",
        "      check = True\n",
        "  return check\n",
        "\n",
        "def update_starts_and_ends(starts, ends):\n",
        "  for i in range(0, len(starts)):\n",
        "    starts[i] = starts[i] + 1\n",
        "    ends[i] = ends[i] - 1\n",
        "\n",
        "list = [3,7,5]\n",
        "thickness = 3\n",
        "results = []\n",
        "\n",
        "row = max(list)//2+1\n",
        "column = sum(list)\n",
        "\n",
        "\n",
        "starts = []\n",
        "ends = []\n",
        "for i in range(0,len(list)):\n",
        "  starts.append(sum(list[0:i]))\n",
        "  ends.append(sum(list[0:i+1])-1)\n",
        "\n",
        "for i in range(0, row):\n",
        "    result = \"\"\n",
        "    for j in range(0, column):\n",
        "        check = is_time_to_print_star(j, starts, ends)\n",
        "        if check:\n",
        "            result += \"*\"\n",
        "        else:\n",
        "            result += \" \"\n",
        "    results.append(result)\n",
        "    update_starts_and_ends(starts, ends)\n",
        "\n",
        "for i in range(len(results)-1,-1,-1):\n",
        "    print(results[i])\n"
      ],
      "execution_count": 1,
      "outputs": [
        {
          "output_type": "stream",
          "text": [
            "      *        \n",
            "     ***    *  \n",
            " *  *****  *** \n",
            "***************\n"
          ],
          "name": "stdout"
        }
      ]
    },
    {
      "cell_type": "code",
      "metadata": {
        "id": "BERdpy_WlHDL",
        "colab_type": "code",
        "outputId": "f767848e-0a35-482a-c8a1-3fe2f91bd4f5",
        "colab": {
          "base_uri": "https://localhost:8080/",
          "height": 105
        }
      },
      "source": [
        "str = input(\"奇数を入力してください（□，□，□）:\")\n",
        "list = [int(s) for s in str.split(',')]\n",
        "\n",
        "max = list[0]\n",
        "for n in list:\n",
        "    if max < n:\n",
        "        max = n\n",
        "\n",
        "size = max // 2 + 1\n",
        "\n",
        "for i in range(size):\n",
        "    for j in list:\n",
        "        for k in range(j):\n",
        "            difference = (max - j) // 2\n",
        "            start = max // 2 - i\n",
        "            end = j // 2 + i - difference\n",
        "            if k >= start and k <= end:\n",
        "                print('*', end='')\n",
        "            else:\n",
        "                print(' ', end='')\n",
        "    print()"
      ],
      "execution_count": 0,
      "outputs": [
        {
          "output_type": "stream",
          "text": [
            "奇数を入力してください（□，□，□）:3,5,7\n",
            "           *   \n",
            "     *    ***  \n",
            " *  ***  ***** \n",
            "***************\n"
          ],
          "name": "stdout"
        }
      ]
    }
  ]
}